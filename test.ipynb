{
 "cells": [
  {
   "cell_type": "code",
   "execution_count": null,
   "metadata": {},
   "outputs": [],
   "source": [
    "# Reconstruct a 3d points cloud from a set of left and right images\n",
    "\n",
    "import numpy as np\n",
    "import cv2\n",
    "import glob\n",
    "from matplotlib import pyplot as plt\n",
    "\n",
    "# import of the images\n",
    "# Calibration images\n",
    "chessboardL = glob.glob('chessboards/c*Left.png')\n",
    "chessboardR = glob.glob('chessboards/c*Right.png')\n",
    "# Scan images\n",
    "scanLeft = glob.glob('scanLeft/*.png')\n",
    "scanRight = glob.glob('scanRight/*.png')\n",
    "\n",
    "# Define the world coordinates for the 3d points\n",
    "worldCoord = np.zeros((6*9,3), np.float32)\n"
   ]
  }
 ],
 "metadata": {
  "kernelspec": {
   "display_name": "Python 3",
   "language": "python",
   "name": "python3"
  },
  "language_info": {
   "name": "python",
   "version": "3.10.3 (tags/v3.10.3:a342a49, Mar 16 2022, 13:07:40) [MSC v.1929 64 bit (AMD64)]"
  },
  "orig_nbformat": 4,
  "vscode": {
   "interpreter": {
    "hash": "6986a5aab8eea1f52732cd2da261a5d7f0e461428ebd1411bb4ed7f786c741f5"
   }
  }
 },
 "nbformat": 4,
 "nbformat_minor": 2
}
